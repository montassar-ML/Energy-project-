{
  "cells": [
    {
      "cell_type": "markdown",
      "id": "cc04aa27-f8f5-4253-a1c2-76b35758368d",
      "metadata": {
        "id": "cc04aa27-f8f5-4253-a1c2-76b35758368d"
      },
      "source": [
        "# Notion"
      ]
    },
    {
      "cell_type": "markdown",
      "id": "0fdeb943-948b-4fb5-8665-bfcff8d36ebc",
      "metadata": {
        "id": "0fdeb943-948b-4fb5-8665-bfcff8d36ebc"
      },
      "source": [
        "This notebook is the modified notebook of [AtomisticSimulationTutorial](https://docs.matlantis.com/atomistic-simulation-tutorial/en/) to run on Google Colab. We only provide executable parts with general library."
      ]
    },
    {
      "cell_type": "markdown",
      "id": "9f2d95f5-0608-40c9-9caf-0fdd98e94a7d",
      "metadata": {
        "tags": [],
        "id": "9f2d95f5-0608-40c9-9caf-0fdd98e94a7d"
      },
      "source": [
        "# ASE Basics\n",
        "\n",
        "The Atomic Simulation Environment (ASE) is a useful OSS library for advancing atomistic simulations in Python. <br/>\n",
        "In this section, we will introduce the basic usage of ASE.\n",
        "\n",
        " - Documentation: https://wiki.fysik.dtu.dk/ase/\n",
        " - gitlab: https://gitlab.com/ase/ase"
      ]
    },
    {
      "cell_type": "markdown",
      "id": "094d2b9a-c152-4412-9776-dd5bef390d6f",
      "metadata": {
        "tags": [],
        "id": "094d2b9a-c152-4412-9776-dd5bef390d6f"
      },
      "source": [
        "## Initial setup"
      ]
    },
    {
      "cell_type": "code",
      "execution_count": 1,
      "id": "13c125bc-d2fd-4d56-8e49-9ae0dbc06a2c",
      "metadata": {
        "id": "13c125bc-d2fd-4d56-8e49-9ae0dbc06a2c",
        "outputId": "d1e2464e-c66f-4b0d-cd9f-0f97a9b853b8",
        "colab": {
          "base_uri": "https://localhost:8080/"
        }
      },
      "outputs": [
        {
          "output_type": "stream",
          "name": "stdout",
          "text": [
            "Collecting ase==3.23.0\n",
            "  Downloading ase-3.23.0-py3-none-any.whl.metadata (3.8 kB)\n",
            "Requirement already satisfied: numpy>=1.18.5 in /usr/local/lib/python3.12/dist-packages (from ase==3.23.0) (2.0.2)\n",
            "Requirement already satisfied: scipy>=1.6.0 in /usr/local/lib/python3.12/dist-packages (from ase==3.23.0) (1.16.2)\n",
            "Requirement already satisfied: matplotlib>=3.3.4 in /usr/local/lib/python3.12/dist-packages (from ase==3.23.0) (3.10.0)\n",
            "Requirement already satisfied: contourpy>=1.0.1 in /usr/local/lib/python3.12/dist-packages (from matplotlib>=3.3.4->ase==3.23.0) (1.3.3)\n",
            "Requirement already satisfied: cycler>=0.10 in /usr/local/lib/python3.12/dist-packages (from matplotlib>=3.3.4->ase==3.23.0) (0.12.1)\n",
            "Requirement already satisfied: fonttools>=4.22.0 in /usr/local/lib/python3.12/dist-packages (from matplotlib>=3.3.4->ase==3.23.0) (4.60.0)\n",
            "Requirement already satisfied: kiwisolver>=1.3.1 in /usr/local/lib/python3.12/dist-packages (from matplotlib>=3.3.4->ase==3.23.0) (1.4.9)\n",
            "Requirement already satisfied: packaging>=20.0 in /usr/local/lib/python3.12/dist-packages (from matplotlib>=3.3.4->ase==3.23.0) (25.0)\n",
            "Requirement already satisfied: pillow>=8 in /usr/local/lib/python3.12/dist-packages (from matplotlib>=3.3.4->ase==3.23.0) (11.3.0)\n",
            "Requirement already satisfied: pyparsing>=2.3.1 in /usr/local/lib/python3.12/dist-packages (from matplotlib>=3.3.4->ase==3.23.0) (3.2.4)\n",
            "Requirement already satisfied: python-dateutil>=2.7 in /usr/local/lib/python3.12/dist-packages (from matplotlib>=3.3.4->ase==3.23.0) (2.9.0.post0)\n",
            "Requirement already satisfied: six>=1.5 in /usr/local/lib/python3.12/dist-packages (from python-dateutil>=2.7->matplotlib>=3.3.4->ase==3.23.0) (1.17.0)\n",
            "Downloading ase-3.23.0-py3-none-any.whl (2.9 MB)\n",
            "\u001b[2K   \u001b[90m━━━━━━━━━━━━━━━━━━━━━━━━━━━━━━━━━━━━━━━━\u001b[0m \u001b[32m2.9/2.9 MB\u001b[0m \u001b[31m17.5 MB/s\u001b[0m eta \u001b[36m0:00:00\u001b[0m\n",
            "\u001b[?25hInstalling collected packages: ase\n",
            "Successfully installed ase-3.23.0\n"
          ]
        }
      ],
      "source": [
        "!pip install ase==3.23.0"
      ]
    },
    {
      "cell_type": "code",
      "execution_count": 2,
      "id": "538dad11-b740-45d3-bb60-1636dbc22a78",
      "metadata": {
        "tags": [],
        "id": "538dad11-b740-45d3-bb60-1636dbc22a78"
      },
      "outputs": [],
      "source": [
        "import os\n",
        "\n",
        "from IPython.display import HTML, Image\n",
        "\n",
        "import matplotlib.pyplot as plt\n",
        "import matplotlib.image as mpimg\n",
        "from matplotlib.animation import FuncAnimation\n",
        "\n",
        "from ase import Atoms\n",
        "from ase.build import make_supercell\n",
        "from ase.io import write\n",
        "from ase.visualize import view\n",
        "\n",
        "os.makedirs(\"output\", exist_ok=True)\n",
        "\n",
        "def view_x3d(atoms, idx=0):\n",
        "    if isinstance(atoms[0], Atoms):\n",
        "        # Assume this is a trajectory or struct list\n",
        "        if (len(atoms) <= idx):\n",
        "                print(f\"The specified index exceeds the length of the trajectory. The length of the trajectory is {len(atoms)}.\")\n",
        "        return view(atoms[idx], viewer=\"x3d\")\n",
        "    else:\n",
        "        return view(atoms, viewer=\"x3d\")\n",
        "\n",
        "\n",
        "def view_ase_atoms(atoms, rotation=\"0x,0y,0z\", figsize=(4, 4), title=\"\", scale=100):\n",
        "    fig, ax = plt.subplots(figsize=figsize)\n",
        "    write(\"output/tmp.png\", atoms, rotation=rotation, scale=scale)\n",
        "    img = mpimg.imread('output/tmp.png')\n",
        "    ax.imshow(img)\n",
        "    ax.set_title(title)\n",
        "    ax.axis('off')\n",
        "    plt.show()\n",
        "    os.remove('output/tmp.png')\n",
        "    return\n",
        "\n",
        "def traj_to_apng(traj, rotation='30x,30y,30z'):\n",
        "    imgs = []\n",
        "    for atom in traj:\n",
        "        supercell = make_supercell(atom, [[1, 0, 0], [0, 1, 0], [0, 0, 1]])\n",
        "        write('output/tmp.png', supercell, rotation=rotation, show_unit_cell=2)\n",
        "        img = mpimg.imread('output/tmp.png')\n",
        "        imgs.append(img)\n",
        "    os.remove('output/tmp.png')\n",
        "\n",
        "    fig, ax = plt.subplots()\n",
        "\n",
        "    def update(frame):\n",
        "        img = imgs[frame]\n",
        "        ax.clear()\n",
        "        ax.imshow(img)\n",
        "        return []\n",
        "\n",
        "    ani = FuncAnimation(fig, update, frames=len(imgs), blit=True)\n",
        "    plt.close()\n",
        "    return HTML(ani.to_jshtml())"
      ]
    },
    {
      "cell_type": "markdown",
      "id": "fe62c5b8-fad2-4178-bda1-e3a5647547de",
      "metadata": {
        "tags": [],
        "id": "fe62c5b8-fad2-4178-bda1-e3a5647547de"
      },
      "source": [
        "## Atoms\n",
        "\n",
        "In ASE, the `Atoms` class represents systems made up of multiple atoms.\n",
        "\n",
        " - https://wiki.fysik.dtu.dk/ase/ase/atoms.html\n",
        "\n",
        "The `Atoms` class holds the following attribute (variable) to represent the structure required for atomistic simulation, as described in the previous section.\n",
        "\n",
        " - Element type of each atom\n",
        " - Coordinate value\n",
        " - Velocity (momentum)\n",
        " - Cell\n",
        " - Periodic boundary conditions, etc."
      ]
    },
    {
      "cell_type": "markdown",
      "id": "e7b4ec0a-b311-4931-baea-93c4bce25009",
      "metadata": {
        "tags": [],
        "id": "e7b4ec0a-b311-4931-baea-93c4bce25009"
      },
      "source": [
        "### How to create Atoms: Specify element and coordinates directly\n",
        "\n",
        "The most primitive way to create `Atoms` is to directly specify the elements and their coordinates. <br/>\n",
        "The following is an example of creating a hydrogen molecule, H2, with the first H at the xyz coordinate value `[0, 0, 0]` and the second H at the xyz coordinate value `[1.0, 0, 0]`."
      ]
    },
    {
      "cell_type": "code",
      "execution_count": 3,
      "id": "cddb2679-9aad-4f6f-9108-14079b3e6ca2",
      "metadata": {
        "id": "cddb2679-9aad-4f6f-9108-14079b3e6ca2"
      },
      "outputs": [],
      "source": [
        "from ase import Atoms\n",
        "\n",
        "atoms = Atoms(\"H2\", [[0, 0, 0], [1.0, 0, 0]])"
      ]
    },
    {
      "cell_type": "markdown",
      "id": "2b28d603-b21b-48d6-9094-fa147dcb3aff",
      "metadata": {
        "id": "2b28d603-b21b-48d6-9094-fa147dcb3aff"
      },
      "source": [
        "You can also visualize atoms.\n",
        "Here, we use the `view` method of ASE and a library called `x3dviewer` to perform the visualization.\n",
        "\n",
        "For more information on visualization, see [Appendix_1_visualization.ipynb](. /Appendix_1_visualization.ipynb)."
      ]
    },
    {
      "cell_type": "code",
      "execution_count": 4,
      "id": "35740376-56bf-435c-85e2-771c5161e04f",
      "metadata": {
        "id": "35740376-56bf-435c-85e2-771c5161e04f",
        "outputId": "734d61b7-9edc-4a52-da39-358bd966be0a",
        "colab": {
          "base_uri": "https://localhost:8080/",
          "height": 317
        }
      },
      "outputs": [
        {
          "output_type": "execute_result",
          "data": {
            "text/plain": [
              "<IPython.core.display.HTML object>"
            ],
            "text/html": [
              "<html>\n",
              "    <head>\n",
              "        <title>ASE atomic visualization</title>\n",
              "        <link rel=\"stylesheet\" type=\"text/css\"             href=\"https://www.x3dom.org/release/x3dom.css\"></link>\n",
              "        <script type=\"text/javascript\"             src=\"https://www.x3dom.org/release/x3dom.js\"></script>\n",
              "    </head>\n",
              "    <body>\n",
              "        <X3D width=\"400px\"; height=\"300px\";>\n",
              "\n",
              "<!--Inserting Generated X3D Scene-->\n",
              "<scene>\n",
              "  <viewpoint position=\"0 0 2.0\">\n",
              "    <group/>\n",
              "  </viewpoint>\n",
              "  <transform translation=\"-0.0 -0.0 -0.0\">\n",
              "    <group>\n",
              "      <group>\n",
              "        <transform translation=\"0 0 0\">\n",
              "          <shape>\n",
              "            <appearance>\n",
              "              <material diffuseColor=\"0 0 0\"/>\n",
              "            </appearance>\n",
              "            <lineset vertexCount=\"5\">\n",
              "              <coordinate point=\"0 0 0 0.0 0.0 0.0 0.0 0.0 0.0 0.0 0.0 0.0 0 0 0\"/>\n",
              "            </lineset>\n",
              "          </shape>\n",
              "        </transform>\n",
              "        <transform translation=\"0.0 0.0 0.0\">\n",
              "          <shape>\n",
              "            <appearance>\n",
              "              <material diffuseColor=\"0 0 0\"/>\n",
              "            </appearance>\n",
              "            <lineset vertexCount=\"5\">\n",
              "              <coordinate point=\"0 0 0 0.0 0.0 0.0 0.0 0.0 0.0 0.0 0.0 0.0 0 0 0\"/>\n",
              "            </lineset>\n",
              "          </shape>\n",
              "        </transform>\n",
              "        <transform translation=\"0 0 0\">\n",
              "          <shape>\n",
              "            <appearance>\n",
              "              <material diffuseColor=\"0 0 0\"/>\n",
              "            </appearance>\n",
              "            <lineset vertexCount=\"5\">\n",
              "              <coordinate point=\"0 0 0 0.0 0.0 0.0 0.0 0.0 0.0 0.0 0.0 0.0 0 0 0\"/>\n",
              "            </lineset>\n",
              "          </shape>\n",
              "        </transform>\n",
              "        <transform translation=\"0.0 0.0 0.0\">\n",
              "          <shape>\n",
              "            <appearance>\n",
              "              <material diffuseColor=\"0 0 0\"/>\n",
              "            </appearance>\n",
              "            <lineset vertexCount=\"5\">\n",
              "              <coordinate point=\"0 0 0 0.0 0.0 0.0 0.0 0.0 0.0 0.0 0.0 0.0 0 0 0\"/>\n",
              "            </lineset>\n",
              "          </shape>\n",
              "        </transform>\n",
              "      </group>\n",
              "      <group>\n",
              "        <transform translation=\"0.0 0.0 0.0\">\n",
              "          <shape>\n",
              "            <appearance>\n",
              "              <material diffuseColor=\"1.0 1.0 1.0\"/>\n",
              "            </appearance>\n",
              "            <sphere radius=\"0.31\"/>\n",
              "          </shape>\n",
              "        </transform>\n",
              "        <transform translation=\"1.0 0.0 0.0\">\n",
              "          <shape>\n",
              "            <appearance>\n",
              "              <material diffuseColor=\"1.0 1.0 1.0\"/>\n",
              "            </appearance>\n",
              "            <sphere radius=\"0.31\"/>\n",
              "          </shape>\n",
              "        </transform>\n",
              "      </group>\n",
              "    </group>\n",
              "  </transform>\n",
              "</scene>\n",
              "<!--End of Inserted Scene-->\n",
              "\n",
              "        </X3D>\n",
              "    </body>\n",
              "</html>\n",
              "\n"
            ]
          },
          "metadata": {},
          "execution_count": 4
        }
      ],
      "source": [
        "view_x3d(atoms)"
      ]
    },
    {
      "cell_type": "markdown",
      "id": "bc4bbbb9-72a7-4931-a18e-92b83709e0e2",
      "metadata": {
        "id": "bc4bbbb9-72a7-4931-a18e-92b83709e0e2"
      },
      "source": [
        "It is also possible to draw a png image using ASE as shown below."
      ]
    },
    {
      "cell_type": "code",
      "execution_count": 5,
      "id": "48dc12b0-0159-4c1d-ac2b-1c433988c731",
      "metadata": {
        "id": "48dc12b0-0159-4c1d-ac2b-1c433988c731",
        "outputId": "36bbd0b9-87c7-41c6-cf07-2a7cc27a09a6",
        "colab": {
          "resources": {
            "http://localhost:8080/output/H2.png": {
              "data": "",
              "ok": false,
              "headers": [
                [
                  "content-length",
                  "0"
                ]
              ],
              "status": 404,
              "status_text": ""
            }
          },
          "base_uri": "https://localhost:8080/",
          "height": 37
        }
      },
      "outputs": [
        {
          "output_type": "execute_result",
          "data": {
            "text/html": [
              "<img src=\"output/H2.png\" width=\"150\"/>"
            ],
            "text/plain": [
              "<IPython.core.display.Image object>"
            ]
          },
          "metadata": {},
          "execution_count": 5
        }
      ],
      "source": [
        "from ase.io import write\n",
        "from IPython.display import Image\n",
        "\n",
        "write(\"output/H2.png\", atoms, rotation=\"0x,0y,0z\", scale=100)\n",
        "Image(url='output/H2.png', width=150)"
      ]
    },
    {
      "cell_type": "markdown",
      "id": "c418bc63-4d12-498a-9d64-7f12e9d9e25c",
      "metadata": {
        "id": "c418bc63-4d12-498a-9d64-7f12e9d9e25c"
      },
      "source": [
        "The following is a utility method that allows the above program to be done in one line. We will use it from now on."
      ]
    },
    {
      "cell_type": "code",
      "execution_count": 6,
      "id": "ca7a3279-ce21-4bec-9978-53a7f87edb23",
      "metadata": {
        "id": "ca7a3279-ce21-4bec-9978-53a7f87edb23",
        "outputId": "201e2b87-e34e-4867-9aab-7baa33fd34ea",
        "colab": {
          "base_uri": "https://localhost:8080/",
          "height": 177
        }
      },
      "outputs": [
        {
          "output_type": "display_data",
          "data": {
            "text/plain": [
              "<Figure size 400x400 with 1 Axes>"
            ],
            "image/png": "[encoded data removed]"
          },
          "metadata": {}
        }
      ],
      "source": [
        "view_ase_atoms(atoms, figsize=(4, 4), title=\"H2 atoms\", scale=100)"
      ]
    },
    {
      "cell_type": "markdown",
      "id": "e758ad37-1691-4810-8087-df01a0a3995b",
      "metadata": {
        "id": "e758ad37-1691-4810-8087-df01a0a3995b"
      },
      "source": [
        "Instead of elemental symbols `symbols`, atomic numbers can be specified as `numbers`."
      ]
    },
    {
      "cell_type": "code",
      "execution_count": 7,
      "id": "a41a3d84-d4ad-4aa4-8d64-1f290dd03d75",
      "metadata": {
        "id": "a41a3d84-d4ad-4aa4-8d64-1f290dd03d75",
        "outputId": "72374a40-b252-4342-b0c2-a8af5c08fe9c",
        "colab": {
          "base_uri": "https://localhost:8080/",
          "height": 317
        }
      },
      "outputs": [
        {
          "output_type": "execute_result",
          "data": {
            "text/plain": [
              "<IPython.core.display.HTML object>"
            ],
            "text/html": [
              "<html>\n",
              "    <head>\n",
              "        <title>ASE atomic visualization</title>\n",
              "        <link rel=\"stylesheet\" type=\"text/css\"             href=\"https://www.x3dom.org/release/x3dom.css\"></link>\n",
              "        <script type=\"text/javascript\"             src=\"https://www.x3dom.org/release/x3dom.js\"></script>\n",
              "    </head>\n",
              "    <body>\n",
              "        <X3D width=\"400px\"; height=\"300px\";>\n",
              "\n",
              "<!--Inserting Generated X3D Scene-->\n",
              "<scene>\n",
              "  <viewpoint position=\"0 0 2.0\">\n",
              "    <group/>\n",
              "  </viewpoint>\n",
              "  <transform translation=\"-0.0 -0.0 -0.0\">\n",
              "    <group>\n",
              "      <group>\n",
              "        <transform translation=\"0 0 0\">\n",
              "          <shape>\n",
              "            <appearance>\n",
              "              <material diffuseColor=\"0 0 0\"/>\n",
              "            </appearance>\n",
              "            <lineset vertexCount=\"5\">\n",
              "              <coordinate point=\"0 0 0 0.0 0.0 0.0 0.0 0.0 0.0 0.0 0.0 0.0 0 0 0\"/>\n",
              "            </lineset>\n",
              "          </shape>\n",
              "        </transform>\n",
              "        <transform translation=\"0.0 0.0 0.0\">\n",
              "          <shape>\n",
              "            <appearance>\n",
              "              <material diffuseColor=\"0 0 0\"/>\n",
              "            </appearance>\n",
              "            <lineset vertexCount=\"5\">\n",
              "              <coordinate point=\"0 0 0 0.0 0.0 0.0 0.0 0.0 0.0 0.0 0.0 0.0 0 0 0\"/>\n",
              "            </lineset>\n",
              "          </shape>\n",
              "        </transform>\n",
              "        <transform translation=\"0 0 0\">\n",
              "          <shape>\n",
              "            <appearance>\n",
              "              <material diffuseColor=\"0 0 0\"/>\n",
              "            </appearance>\n",
              "            <lineset vertexCount=\"5\">\n",
              "              <coordinate point=\"0 0 0 0.0 0.0 0.0 0.0 0.0 0.0 0.0 0.0 0.0 0 0 0\"/>\n",
              "            </lineset>\n",
              "          </shape>\n",
              "        </transform>\n",
              "        <transform translation=\"0.0 0.0 0.0\">\n",
              "          <shape>\n",
              "            <appearance>\n",
              "              <material diffuseColor=\"0 0 0\"/>\n",
              "            </appearance>\n",
              "            <lineset vertexCount=\"5\">\n",
              "              <coordinate point=\"0 0 0 0.0 0.0 0.0 0.0 0.0 0.0 0.0 0.0 0.0 0 0 0\"/>\n",
              "            </lineset>\n",
              "          </shape>\n",
              "        </transform>\n",
              "      </group>\n",
              "      <group>\n",
              "        <transform translation=\"0.0 0.0 0.0\">\n",
              "          <shape>\n",
              "            <appearance>\n",
              "              <material diffuseColor=\"0.565 0.565 0.565\"/>\n",
              "            </appearance>\n",
              "            <sphere radius=\"0.76\"/>\n",
              "          </shape>\n",
              "        </transform>\n",
              "        <transform translation=\"1.0 0.0 0.0\">\n",
              "          <shape>\n",
              "            <appearance>\n",
              "              <material diffuseColor=\"1.0 0.051 0.051\"/>\n",
              "            </appearance>\n",
              "            <sphere radius=\"0.66\"/>\n",
              "          </shape>\n",
              "        </transform>\n",
              "      </group>\n",
              "    </group>\n",
              "  </transform>\n",
              "</scene>\n",
              "<!--End of Inserted Scene-->\n",
              "\n",
              "        </X3D>\n",
              "    </body>\n",
              "</html>\n",
              "\n"
            ]
          },
          "metadata": {},
          "execution_count": 7
        }
      ],
      "source": [
        "co_atoms = Atoms(numbers=[6, 8], positions=[[0, 0, 0], [1.0, 0, 0]])\n",
        "view_x3d(co_atoms)"
      ]
    },
    {
      "cell_type": "code",
      "execution_count": 8,
      "id": "322b6000-6848-41cd-a72e-5054742b16dd",
      "metadata": {
        "id": "322b6000-6848-41cd-a72e-5054742b16dd",
        "outputId": "9592a6dd-ecac-4a58-d932-08af44bd502b",
        "colab": {
          "base_uri": "https://localhost:8080/",
          "height": 253
        }
      },
      "outputs": [
        {
          "output_type": "display_data",
          "data": {
            "text/plain": [
              "<Figure size 400x400 with 1 Axes>"
            ],
            "image/png": "[encoded data removed]"
          },
          "metadata": {}
        }
      ],
      "source": [
        "view_ase_atoms(co_atoms, figsize=(4, 4), title=\"CO atoms\", scale=100)"
      ]
    },
    {
      "cell_type": "markdown",
      "id": "13fdd225-a632-4597-baf8-394c6e1d05bc",
      "metadata": {
        "id": "13fdd225-a632-4597-baf8-394c6e1d05bc"
      },
      "source": [
        "If you want to define a system with periodic boundary conditions, you can specify periodic information in `cell` and turn on or off whether to apply periodic boundary conditions for each of the a-axis, b-axis, and c-axis in `pbc`."
      ]
    },
    {
      "cell_type": "code",
      "execution_count": 9,
      "id": "f4ea5d32-3205-4c51-8ba6-9e9edbdef0a4",
      "metadata": {
        "id": "f4ea5d32-3205-4c51-8ba6-9e9edbdef0a4"
      },
      "outputs": [],
      "source": [
        "from ase import Atoms\n",
        "\n",
        "\n",
        "na2_atoms = Atoms(\n",
        "    symbols=\"Na2\",\n",
        "    positions=[[0, 0, 0], [2.115, 2.115, 2.115]],\n",
        "    cell=[4.23, 4.23, 4.23],\n",
        "    pbc=[True, True, True]\n",
        ")"
      ]
    },
    {
      "cell_type": "code",
      "execution_count": 10,
      "id": "536b44b8-c51e-449d-bc7a-6b6e95e85011",
      "metadata": {
        "id": "536b44b8-c51e-449d-bc7a-6b6e95e85011",
        "outputId": "6b9bb386-8962-46da-c4a2-6859b0c7c058",
        "colab": {
          "base_uri": "https://localhost:8080/",
          "height": 317
        }
      },
      "outputs": [
        {
          "output_type": "execute_result",
          "data": {
            "text/plain": [
              "<IPython.core.display.HTML object>"
            ],
            "text/html": [
              "<html>\n",
              "    <head>\n",
              "        <title>ASE atomic visualization</title>\n",
              "        <link rel=\"stylesheet\" type=\"text/css\"             href=\"https://www.x3dom.org/release/x3dom.css\"></link>\n",
              "        <script type=\"text/javascript\"             src=\"https://www.x3dom.org/release/x3dom.js\"></script>\n",
              "    </head>\n",
              "    <body>\n",
              "        <X3D width=\"400px\"; height=\"300px\";>\n",
              "\n",
              "<!--Inserting Generated X3D Scene-->\n",
              "<scene>\n",
              "  <viewpoint position=\"0 0 8.46\">\n",
              "    <group/>\n",
              "  </viewpoint>\n",
              "  <transform translation=\"-2.115 -2.115 -2.115\">\n",
              "    <group>\n",
              "      <group>\n",
              "        <transform translation=\"0 0 0\">\n",
              "          <shape>\n",
              "            <appearance>\n",
              "              <material diffuseColor=\"0 0 0\"/>\n",
              "            </appearance>\n",
              "            <lineset vertexCount=\"5\">\n",
              "              <coordinate point=\"0 0 0 4.23 0.0 0.0 4.23 4.23 0.0 0.0 4.23 0.0 0 0 0\"/>\n",
              "            </lineset>\n",
              "          </shape>\n",
              "        </transform>\n",
              "        <transform translation=\"0.0 0.0 4.23\">\n",
              "          <shape>\n",
              "            <appearance>\n",
              "              <material diffuseColor=\"0 0 0\"/>\n",
              "            </appearance>\n",
              "            <lineset vertexCount=\"5\">\n",
              "              <coordinate point=\"0 0 0 4.23 0.0 0.0 4.23 4.23 0.0 0.0 4.23 0.0 0 0 0\"/>\n",
              "            </lineset>\n",
              "          </shape>\n",
              "        </transform>\n",
              "        <transform translation=\"0 0 0\">\n",
              "          <shape>\n",
              "            <appearance>\n",
              "              <material diffuseColor=\"0 0 0\"/>\n",
              "            </appearance>\n",
              "            <lineset vertexCount=\"5\">\n",
              "              <coordinate point=\"0 0 0 4.23 0.0 0.0 4.23 0.0 4.23 0.0 0.0 4.23 0 0 0\"/>\n",
              "            </lineset>\n",
              "          </shape>\n",
              "        </transform>\n",
              "        <transform translation=\"0.0 4.23 0.0\">\n",
              "          <shape>\n",
              "            <appearance>\n",
              "              <material diffuseColor=\"0 0 0\"/>\n",
              "            </appearance>\n",
              "            <lineset vertexCount=\"5\">\n",
              "              <coordinate point=\"0 0 0 4.23 0.0 0.0 4.23 0.0 4.23 0.0 0.0 4.23 0 0 0\"/>\n",
              "            </lineset>\n",
              "          </shape>\n",
              "        </transform>\n",
              "      </group>\n",
              "      <group>\n",
              "        <transform translation=\"0.0 0.0 0.0\">\n",
              "          <shape>\n",
              "            <appearance>\n",
              "              <material diffuseColor=\"0.671 0.361 0.949\"/>\n",
              "            </appearance>\n",
              "            <sphere radius=\"1.66\"/>\n",
              "          </shape>\n",
              "        </transform>\n",
              "        <transform translation=\"2.115 2.115 2.115\">\n",
              "          <shape>\n",
              "            <appearance>\n",
              "              <material diffuseColor=\"0.671 0.361 0.949\"/>\n",
              "            </appearance>\n",
              "            <sphere radius=\"1.66\"/>\n",
              "          </shape>\n",
              "        </transform>\n",
              "      </group>\n",
              "    </group>\n",
              "  </transform>\n",
              "</scene>\n",
              "<!--End of Inserted Scene-->\n",
              "\n",
              "        </X3D>\n",
              "    </body>\n",
              "</html>\n",
              "\n"
            ]
          },
          "metadata": {},
          "execution_count": 10
        }
      ],
      "source": [
        "view_x3d(na2_atoms)"
      ]
    },
    {
      "cell_type": "code",
      "execution_count": 11,
      "id": "b846f816-950c-4a11-b4cb-b1ad7c608988",
      "metadata": {
        "id": "b846f816-950c-4a11-b4cb-b1ad7c608988",
        "outputId": "f6987d34-fc27-4431-ea19-83d5a85dcbcd",
        "colab": {
          "base_uri": "https://localhost:8080/",
          "height": 261
        }
      },
      "outputs": [
        {
          "output_type": "display_data",
          "data": {
            "text/plain": [
              "<Figure size 300x300 with 1 Axes>"
            ],
            "image/png": "[encoded data removed]"
          },
          "metadata": {}
        }
      ],
      "source": [
        "view_ase_atoms(na2_atoms, rotation=\"10x,10y,0z\", figsize=(3, 3), title=\"Na2 atoms\", scale=30)"
      ]
    },
    {
      "cell_type": "markdown",
      "id": "ab500cb8-5b73-47ad-b330-3a03319b5606",
      "metadata": {
        "id": "ab500cb8-5b73-47ad-b330-3a03319b5606"
      },
      "source": [
        "### Attribute and method in ASE\n",
        "\n",
        "<figure style=\"width:200px\">\n",
        "<img src=\"https://github.com/matlantis/atomistic-simulation-tutorial-colab/blob/main/tutorials/assets/ch1/atoms.png?raw=1\"/>\n",
        "</figure>\n",
        "\n",
        "The `atoms` holds information about the structure and can be referenced through the attributes and `get_XXX` functions.\n",
        "Attributes are variables that the `Atoms` class possesses, some of which can be referenced directly as `atoms.xxx`. <br/>\n",
        "\n",
        "Some information can be accessed through methods.\n",
        "The following is a summary of the return values (what the shape looks like as a numpy array) of the main attribute and methods.\n",
        "\n",
        " - Attribute\n",
        "   - `symbols`: returns a summary of elemental species and their numbers.\n",
        "   - `numbers`: array of atomic numbers, shape is (N,).\n",
        "   - `positions`: the coordinates of each atom, shape is (N, 3) where 3 means xyz coordinates.\n",
        "   - `cell`: represented by the `Cell` class of ASE.\n",
        "     - The details of the Cell class are described later. In general, it is represented by a (3, 3) matrix of vectors of the a, b, and c axes respectively, for example in [triclinic crystal](https://en.wikipedia.org/wiki/Triclinic_crystal_system). In some cases like [orthorhombic crystal](https://en.wikipedia.org/wiki/Orthorhombic_crystal_system), cell can be represented by a (3,) shape vector, which represents the length of a, b, and c axes.\n",
        "   - `pbc`: Indicates whether there is a periodic boundary condition in each direction.\n",
        " - Method\n",
        "   - `get_masses()`: returns the mass of each atom.\n",
        "   - `get_momenta()`: return the momentum for each atom.\n",
        "   - `len(atoms)`: returns the number of atoms `N` in the whole `atoms`."
      ]
    },
    {
      "cell_type": "code",
      "execution_count": 12,
      "id": "c6473214-212a-4e39-8003-25ea4f30e307",
      "metadata": {
        "id": "c6473214-212a-4e39-8003-25ea4f30e307",
        "outputId": "09576259-ccc8-42a7-d8ce-d7357585d64c",
        "colab": {
          "base_uri": "https://localhost:8080/"
        }
      },
      "outputs": [
        {
          "output_type": "stream",
          "name": "stdout",
          "text": [
            "symbols  : H2\n",
            "positions: [[0. 0. 0.]\n",
            " [1. 0. 0.]]\n",
            "cell     : Cell([0.0, 0.0, 0.0])\n",
            "pbc      : [False False False]\n",
            "numbers  : [1 1]\n",
            "massess  : [1.008 1.008]\n",
            "momenta  : [[0. 0. 0.]\n",
            " [0. 0. 0.]]\n",
            "Numbers of atoms  : 2\n"
          ]
        }
      ],
      "source": [
        "print(f\"symbols  : {atoms.symbols}\")\n",
        "print(f\"positions: {atoms.positions}\")\n",
        "print(f\"cell     : {atoms.cell}\")\n",
        "print(f\"pbc      : {atoms.pbc}\")\n",
        "\n",
        "# \"Atomic numbers\" and \"Mass\" can be automatically calculated from \"Symbol\"\n",
        "print(f\"numbers  : {atoms.numbers}\")\n",
        "print(f\"massess  : {atoms.get_masses()}\")\n",
        "print(f\"momenta  : {atoms.get_momenta()}\")\n",
        "print(f\"Numbers of atoms  : {len(atoms)}\")"
      ]
    },
    {
      "cell_type": "markdown",
      "id": "c81bf34d-e0f3-4e53-81af-7d27a9a23418",
      "metadata": {
        "id": "c81bf34d-e0f3-4e53-81af-7d27a9a23418"
      },
      "source": [
        "### System of units\n",
        "\n",
        "In ASE, energy units are often treated in eV (approximately $1.602 \\times 10^{-19}$ J) and coordinate systems in Å ($1 \\times 10^{-10}$ m). <br/>\n",
        "The units for force and stress are these composite units: eV/Å for force and eV/Å2 for stress.\n",
        "The unit for charge is the elementary amount of charge.\n",
        "\n",
        " - eV: [Electronvolt](https://en.wikipedia.org/wiki/Electronvolt)\n",
        " - Å: [Angstrom](https://en.wikipedia.org/wiki/Angstrom)\n",
        " - e: [Elementary charge](https://en.wikipedia.org/wiki/Elementary_charge)"
      ]
    },
    {
      "cell_type": "markdown",
      "id": "2cb54357-1db5-46b1-8c2d-c22652ab1fad",
      "metadata": {
        "id": "2cb54357-1db5-46b1-8c2d-c22652ab1fad"
      },
      "source": [
        "[Tips] Detailed information about each class/method can be displayed by appending ? within Jupyter."
      ]
    },
    {
      "cell_type": "code",
      "execution_count": 13,
      "id": "7a910888-9343-4516-8b27-b8da0ee778a3",
      "metadata": {
        "tags": [],
        "id": "7a910888-9343-4516-8b27-b8da0ee778a3"
      },
      "outputs": [],
      "source": [
        "Atoms?"
      ]
    },
    {
      "cell_type": "code",
      "execution_count": 13,
      "id": "97cc0d74-70a1-4de8-a59c-322e7e368e9c",
      "metadata": {
        "id": "97cc0d74-70a1-4de8-a59c-322e7e368e9c"
      },
      "outputs": [],
      "source": []
    }
  ],
  "metadata": {
    "kernelspec": {
      "display_name": "1: Python 3.9",
      "language": "python",
      "name": "python39"
    },
    "language_info": {
      "codemirror_mode": {
        "name": "ipython",
        "version": 3
      },
      "file_extension": ".py",
      "mimetype": "text/x-python",
      "name": "python",
      "nbconvert_exporter": "python",
      "pygments_lexer": "ipython3",
      "version": "3.9.16"
    },
    "toc-autonumbering": false,
    "toc-showcode": false,
    "toc-showmarkdowntxt": false,
    "toc-showtags": false,
    "colab": {
      "provenance": []
    }
  },
  "nbformat": 4,
  "nbformat_minor": 5
}